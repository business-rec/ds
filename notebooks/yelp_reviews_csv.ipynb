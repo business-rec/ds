{
 "cells": [
  {
   "cell_type": "markdown",
   "metadata": {},
   "source": [
    "# Yelp Dataset\n",
    "https://www.yelp.com/dataset/\n",
    "- unzip the first .tar file, it will extract a single file\n",
    "- add .tar to the end of the file's name then extract again\n",
    "- the second file will extract 6 json files\n",
    "- for the purpose of this project, we would only need business and review json files"
   ]
  },
  {
   "cell_type": "code",
   "execution_count": null,
   "metadata": {},
   "outputs": [],
   "source": [
    "# !unzip -o data.zip"
   ]
  },
  {
   "cell_type": "code",
   "execution_count": 2,
   "metadata": {},
   "outputs": [],
   "source": [
    "import pandas as pd\n",
    "pd.set_option('display.max_columns', 500) # Make sure we can see all of the columns\n",
    "pd.set_option('display.max_rows', 200)"
   ]
  },
  {
   "cell_type": "markdown",
   "metadata": {},
   "source": [
    "## Load/Clean Business JSON"
   ]
  },
  {
   "cell_type": "code",
   "execution_count": 3,
   "metadata": {},
   "outputs": [
    {
     "name": "stdout",
     "output_type": "stream",
     "text": [
      "(192609, 14)\n"
     ]
    },
    {
     "data": {
      "text/html": [
       "<div>\n",
       "<style scoped>\n",
       "    .dataframe tbody tr th:only-of-type {\n",
       "        vertical-align: middle;\n",
       "    }\n",
       "\n",
       "    .dataframe tbody tr th {\n",
       "        vertical-align: top;\n",
       "    }\n",
       "\n",
       "    .dataframe thead th {\n",
       "        text-align: right;\n",
       "    }\n",
       "</style>\n",
       "<table border=\"1\" class=\"dataframe\">\n",
       "  <thead>\n",
       "    <tr style=\"text-align: right;\">\n",
       "      <th></th>\n",
       "      <th>address</th>\n",
       "      <th>attributes</th>\n",
       "      <th>business_id</th>\n",
       "      <th>categories</th>\n",
       "      <th>city</th>\n",
       "      <th>hours</th>\n",
       "      <th>is_open</th>\n",
       "      <th>latitude</th>\n",
       "      <th>longitude</th>\n",
       "      <th>name</th>\n",
       "      <th>postal_code</th>\n",
       "      <th>review_count</th>\n",
       "      <th>stars</th>\n",
       "      <th>state</th>\n",
       "    </tr>\n",
       "  </thead>\n",
       "  <tbody>\n",
       "    <tr>\n",
       "      <th>0</th>\n",
       "      <td>2818 E Camino Acequia Drive</td>\n",
       "      <td>{'GoodForKids': 'False'}</td>\n",
       "      <td>1SWheh84yJXfytovILXOAQ</td>\n",
       "      <td>Golf, Active Life</td>\n",
       "      <td>Phoenix</td>\n",
       "      <td>None</td>\n",
       "      <td>0</td>\n",
       "      <td>33.522143</td>\n",
       "      <td>-112.018481</td>\n",
       "      <td>Arizona Biltmore Golf Club</td>\n",
       "      <td>85016</td>\n",
       "      <td>5</td>\n",
       "      <td>3.0</td>\n",
       "      <td>AZ</td>\n",
       "    </tr>\n",
       "    <tr>\n",
       "      <th>1</th>\n",
       "      <td>30 Eglinton Avenue W</td>\n",
       "      <td>{'RestaurantsReservations': 'True', 'GoodForMe...</td>\n",
       "      <td>QXAEGFB4oINsVuTFxEYKFQ</td>\n",
       "      <td>Specialty Food, Restaurants, Dim Sum, Imported...</td>\n",
       "      <td>Mississauga</td>\n",
       "      <td>{'Monday': '9:0-0:0', 'Tuesday': '9:0-0:0', 'W...</td>\n",
       "      <td>1</td>\n",
       "      <td>43.605499</td>\n",
       "      <td>-79.652289</td>\n",
       "      <td>Emerald Chinese Restaurant</td>\n",
       "      <td>L5R 3E7</td>\n",
       "      <td>128</td>\n",
       "      <td>2.5</td>\n",
       "      <td>ON</td>\n",
       "    </tr>\n",
       "    <tr>\n",
       "      <th>2</th>\n",
       "      <td>10110 Johnston Rd, Ste 15</td>\n",
       "      <td>{'GoodForKids': 'True', 'NoiseLevel': 'u'avera...</td>\n",
       "      <td>gnKjwL_1w79qoiV3IC_xQQ</td>\n",
       "      <td>Sushi Bars, Restaurants, Japanese</td>\n",
       "      <td>Charlotte</td>\n",
       "      <td>{'Monday': '17:30-21:30', 'Wednesday': '17:30-...</td>\n",
       "      <td>1</td>\n",
       "      <td>35.092564</td>\n",
       "      <td>-80.859132</td>\n",
       "      <td>Musashi Japanese Restaurant</td>\n",
       "      <td>28210</td>\n",
       "      <td>170</td>\n",
       "      <td>4.0</td>\n",
       "      <td>NC</td>\n",
       "    </tr>\n",
       "    <tr>\n",
       "      <th>3</th>\n",
       "      <td>15655 W Roosevelt St, Ste 237</td>\n",
       "      <td>None</td>\n",
       "      <td>xvX2CttrVhyG2z1dFg_0xw</td>\n",
       "      <td>Insurance, Financial Services</td>\n",
       "      <td>Goodyear</td>\n",
       "      <td>{'Monday': '8:0-17:0', 'Tuesday': '8:0-17:0', ...</td>\n",
       "      <td>1</td>\n",
       "      <td>33.455613</td>\n",
       "      <td>-112.395596</td>\n",
       "      <td>Farmers Insurance - Paul Lorenz</td>\n",
       "      <td>85338</td>\n",
       "      <td>3</td>\n",
       "      <td>5.0</td>\n",
       "      <td>AZ</td>\n",
       "    </tr>\n",
       "    <tr>\n",
       "      <th>4</th>\n",
       "      <td>4209 Stuart Andrew Blvd, Ste F</td>\n",
       "      <td>{'BusinessAcceptsBitcoin': 'False', 'ByAppoint...</td>\n",
       "      <td>HhyxOkGAM07SRYtlQ4wMFQ</td>\n",
       "      <td>Plumbing, Shopping, Local Services, Home Servi...</td>\n",
       "      <td>Charlotte</td>\n",
       "      <td>{'Monday': '7:0-23:0', 'Tuesday': '7:0-23:0', ...</td>\n",
       "      <td>1</td>\n",
       "      <td>35.190012</td>\n",
       "      <td>-80.887223</td>\n",
       "      <td>Queen City Plumbing</td>\n",
       "      <td>28217</td>\n",
       "      <td>4</td>\n",
       "      <td>4.0</td>\n",
       "      <td>NC</td>\n",
       "    </tr>\n",
       "  </tbody>\n",
       "</table>\n",
       "</div>"
      ],
      "text/plain": [
       "                          address  \\\n",
       "0     2818 E Camino Acequia Drive   \n",
       "1            30 Eglinton Avenue W   \n",
       "2       10110 Johnston Rd, Ste 15   \n",
       "3   15655 W Roosevelt St, Ste 237   \n",
       "4  4209 Stuart Andrew Blvd, Ste F   \n",
       "\n",
       "                                          attributes             business_id  \\\n",
       "0                           {'GoodForKids': 'False'}  1SWheh84yJXfytovILXOAQ   \n",
       "1  {'RestaurantsReservations': 'True', 'GoodForMe...  QXAEGFB4oINsVuTFxEYKFQ   \n",
       "2  {'GoodForKids': 'True', 'NoiseLevel': 'u'avera...  gnKjwL_1w79qoiV3IC_xQQ   \n",
       "3                                               None  xvX2CttrVhyG2z1dFg_0xw   \n",
       "4  {'BusinessAcceptsBitcoin': 'False', 'ByAppoint...  HhyxOkGAM07SRYtlQ4wMFQ   \n",
       "\n",
       "                                          categories         city  \\\n",
       "0                                  Golf, Active Life      Phoenix   \n",
       "1  Specialty Food, Restaurants, Dim Sum, Imported...  Mississauga   \n",
       "2                  Sushi Bars, Restaurants, Japanese    Charlotte   \n",
       "3                      Insurance, Financial Services     Goodyear   \n",
       "4  Plumbing, Shopping, Local Services, Home Servi...    Charlotte   \n",
       "\n",
       "                                               hours  is_open   latitude  \\\n",
       "0                                               None        0  33.522143   \n",
       "1  {'Monday': '9:0-0:0', 'Tuesday': '9:0-0:0', 'W...        1  43.605499   \n",
       "2  {'Monday': '17:30-21:30', 'Wednesday': '17:30-...        1  35.092564   \n",
       "3  {'Monday': '8:0-17:0', 'Tuesday': '8:0-17:0', ...        1  33.455613   \n",
       "4  {'Monday': '7:0-23:0', 'Tuesday': '7:0-23:0', ...        1  35.190012   \n",
       "\n",
       "    longitude                             name postal_code  review_count  \\\n",
       "0 -112.018481       Arizona Biltmore Golf Club       85016             5   \n",
       "1  -79.652289       Emerald Chinese Restaurant     L5R 3E7           128   \n",
       "2  -80.859132      Musashi Japanese Restaurant       28210           170   \n",
       "3 -112.395596  Farmers Insurance - Paul Lorenz       85338             3   \n",
       "4  -80.887223              Queen City Plumbing       28217             4   \n",
       "\n",
       "   stars state  \n",
       "0    3.0    AZ  \n",
       "1    2.5    ON  \n",
       "2    4.0    NC  \n",
       "3    5.0    AZ  \n",
       "4    4.0    NC  "
      ]
     },
     "execution_count": 3,
     "metadata": {},
     "output_type": "execute_result"
    }
   ],
   "source": [
    "business = pd.read_json('data/business.json', lines=True)\n",
    "print(business.shape)\n",
    "business.head()"
   ]
  },
  {
   "cell_type": "code",
   "execution_count": 4,
   "metadata": {},
   "outputs": [
    {
     "name": "stdout",
     "output_type": "stream",
     "text": [
      "(158064, 5)\n"
     ]
    },
    {
     "data": {
      "text/html": [
       "<div>\n",
       "<style scoped>\n",
       "    .dataframe tbody tr th:only-of-type {\n",
       "        vertical-align: middle;\n",
       "    }\n",
       "\n",
       "    .dataframe tbody tr th {\n",
       "        vertical-align: top;\n",
       "    }\n",
       "\n",
       "    .dataframe thead th {\n",
       "        text-align: right;\n",
       "    }\n",
       "</style>\n",
       "<table border=\"1\" class=\"dataframe\">\n",
       "  <thead>\n",
       "    <tr style=\"text-align: right;\">\n",
       "      <th></th>\n",
       "      <th>business_id</th>\n",
       "      <th>categories</th>\n",
       "      <th>city</th>\n",
       "      <th>stars</th>\n",
       "      <th>state</th>\n",
       "    </tr>\n",
       "  </thead>\n",
       "  <tbody>\n",
       "    <tr>\n",
       "      <th>1</th>\n",
       "      <td>QXAEGFB4oINsVuTFxEYKFQ</td>\n",
       "      <td>Specialty Food, Restaurants, Dim Sum, Imported...</td>\n",
       "      <td>Mississauga</td>\n",
       "      <td>2.5</td>\n",
       "      <td>ON</td>\n",
       "    </tr>\n",
       "    <tr>\n",
       "      <th>2</th>\n",
       "      <td>gnKjwL_1w79qoiV3IC_xQQ</td>\n",
       "      <td>Sushi Bars, Restaurants, Japanese</td>\n",
       "      <td>Charlotte</td>\n",
       "      <td>4.0</td>\n",
       "      <td>NC</td>\n",
       "    </tr>\n",
       "    <tr>\n",
       "      <th>3</th>\n",
       "      <td>xvX2CttrVhyG2z1dFg_0xw</td>\n",
       "      <td>Insurance, Financial Services</td>\n",
       "      <td>Goodyear</td>\n",
       "      <td>5.0</td>\n",
       "      <td>AZ</td>\n",
       "    </tr>\n",
       "    <tr>\n",
       "      <th>4</th>\n",
       "      <td>HhyxOkGAM07SRYtlQ4wMFQ</td>\n",
       "      <td>Plumbing, Shopping, Local Services, Home Servi...</td>\n",
       "      <td>Charlotte</td>\n",
       "      <td>4.0</td>\n",
       "      <td>NC</td>\n",
       "    </tr>\n",
       "    <tr>\n",
       "      <th>5</th>\n",
       "      <td>68dUKd8_8liJ7in4aWOSEA</td>\n",
       "      <td>Shipping Centers, Couriers &amp; Delivery Services...</td>\n",
       "      <td>Mississauga</td>\n",
       "      <td>2.5</td>\n",
       "      <td>ON</td>\n",
       "    </tr>\n",
       "  </tbody>\n",
       "</table>\n",
       "</div>"
      ],
      "text/plain": [
       "              business_id                                         categories  \\\n",
       "1  QXAEGFB4oINsVuTFxEYKFQ  Specialty Food, Restaurants, Dim Sum, Imported...   \n",
       "2  gnKjwL_1w79qoiV3IC_xQQ                  Sushi Bars, Restaurants, Japanese   \n",
       "3  xvX2CttrVhyG2z1dFg_0xw                      Insurance, Financial Services   \n",
       "4  HhyxOkGAM07SRYtlQ4wMFQ  Plumbing, Shopping, Local Services, Home Servi...   \n",
       "5  68dUKd8_8liJ7in4aWOSEA  Shipping Centers, Couriers & Delivery Services...   \n",
       "\n",
       "          city  stars state  \n",
       "1  Mississauga    2.5    ON  \n",
       "2    Charlotte    4.0    NC  \n",
       "3     Goodyear    5.0    AZ  \n",
       "4    Charlotte    4.0    NC  \n",
       "5  Mississauga    2.5    ON  "
      ]
     },
     "execution_count": 4,
     "metadata": {},
     "output_type": "execute_result"
    }
   ],
   "source": [
    "# Keep only business that are still open\n",
    "business = business[business['is_open']==1]\n",
    "# Drop columns that aren't relavent\n",
    "business = business.drop(['address','attributes','hours','latitude','longitude',\n",
    "                          'postal_code','review_count','name','is_open'], axis=1)\n",
    "# Remove any data that is NaN\n",
    "business = business.dropna()\n",
    "print(business.shape)\n",
    "business.head()"
   ]
  },
  {
   "cell_type": "code",
   "execution_count": 13,
   "metadata": {},
   "outputs": [
    {
     "data": {
      "text/plain": [
       "business_id      0\n",
       "categories     461\n",
       "city             0\n",
       "stars            0\n",
       "state            0\n",
       "dtype: int64"
      ]
     },
     "execution_count": 13,
     "metadata": {},
     "output_type": "execute_result"
    }
   ],
   "source": [
    "# Without the categories, we cannot group the reviews together\n",
    "# we would have to remove the null categories\n",
    "business.isnull().sum()"
   ]
  },
  {
   "cell_type": "code",
   "execution_count": 32,
   "metadata": {},
   "outputs": [
    {
     "data": {
      "text/plain": [
       "(36,)"
      ]
     },
     "execution_count": 32,
     "metadata": {},
     "output_type": "execute_result"
    }
   ],
   "source": [
    "business['state'].value_counts().shape"
   ]
  },
  {
   "cell_type": "code",
   "execution_count": 5,
   "metadata": {},
   "outputs": [
    {
     "name": "stdout",
     "output_type": "stream",
     "text": [
      "(46754, 5)\n"
     ]
    },
    {
     "data": {
      "text/html": [
       "<div>\n",
       "<style scoped>\n",
       "    .dataframe tbody tr th:only-of-type {\n",
       "        vertical-align: middle;\n",
       "    }\n",
       "\n",
       "    .dataframe tbody tr th {\n",
       "        vertical-align: top;\n",
       "    }\n",
       "\n",
       "    .dataframe thead th {\n",
       "        text-align: right;\n",
       "    }\n",
       "</style>\n",
       "<table border=\"1\" class=\"dataframe\">\n",
       "  <thead>\n",
       "    <tr style=\"text-align: right;\">\n",
       "      <th></th>\n",
       "      <th>business_id</th>\n",
       "      <th>categories</th>\n",
       "      <th>city</th>\n",
       "      <th>stars</th>\n",
       "      <th>state</th>\n",
       "    </tr>\n",
       "  </thead>\n",
       "  <tbody>\n",
       "    <tr>\n",
       "      <th>3</th>\n",
       "      <td>xvX2CttrVhyG2z1dFg_0xw</td>\n",
       "      <td>Insurance, Financial Services</td>\n",
       "      <td>Goodyear</td>\n",
       "      <td>5.0</td>\n",
       "      <td>AZ</td>\n",
       "    </tr>\n",
       "    <tr>\n",
       "      <th>11</th>\n",
       "      <td>1Dfx3zM-rW4n-31KeC8sJg</td>\n",
       "      <td>Restaurants, Breakfast &amp; Brunch, Mexican, Taco...</td>\n",
       "      <td>Phoenix</td>\n",
       "      <td>3.0</td>\n",
       "      <td>AZ</td>\n",
       "    </tr>\n",
       "    <tr>\n",
       "      <th>16</th>\n",
       "      <td>giC3pVVFxCRR89rApqklyw</td>\n",
       "      <td>Hair Stylists, Beauty &amp; Spas, Hair Salons, Men...</td>\n",
       "      <td>Scottsdale</td>\n",
       "      <td>5.0</td>\n",
       "      <td>AZ</td>\n",
       "    </tr>\n",
       "    <tr>\n",
       "      <th>31</th>\n",
       "      <td>mNBp4KI2goFJKDB9VLGP9w</td>\n",
       "      <td>Automotive, Auto Repair</td>\n",
       "      <td>Phoenix</td>\n",
       "      <td>5.0</td>\n",
       "      <td>AZ</td>\n",
       "    </tr>\n",
       "    <tr>\n",
       "      <th>37</th>\n",
       "      <td>M9DM1ktbW-TB7nXu3Z4RDw</td>\n",
       "      <td>Home Services, Real Estate, Apartments, Hotels...</td>\n",
       "      <td>Mesa</td>\n",
       "      <td>2.5</td>\n",
       "      <td>AZ</td>\n",
       "    </tr>\n",
       "  </tbody>\n",
       "</table>\n",
       "</div>"
      ],
      "text/plain": [
       "               business_id                                         categories  \\\n",
       "3   xvX2CttrVhyG2z1dFg_0xw                      Insurance, Financial Services   \n",
       "11  1Dfx3zM-rW4n-31KeC8sJg  Restaurants, Breakfast & Brunch, Mexican, Taco...   \n",
       "16  giC3pVVFxCRR89rApqklyw  Hair Stylists, Beauty & Spas, Hair Salons, Men...   \n",
       "31  mNBp4KI2goFJKDB9VLGP9w                            Automotive, Auto Repair   \n",
       "37  M9DM1ktbW-TB7nXu3Z4RDw  Home Services, Real Estate, Apartments, Hotels...   \n",
       "\n",
       "          city  stars state  \n",
       "3     Goodyear    5.0    AZ  \n",
       "11     Phoenix    3.0    AZ  \n",
       "16  Scottsdale    5.0    AZ  \n",
       "31     Phoenix    5.0    AZ  \n",
       "37        Mesa    2.5    AZ  "
      ]
     },
     "execution_count": 5,
     "metadata": {},
     "output_type": "execute_result"
    }
   ],
   "source": [
    "business_AZ = business[business['state']=='AZ']\n",
    "print(business_AZ.shape)\n",
    "business_AZ.head()"
   ]
  },
  {
   "cell_type": "code",
   "execution_count": 6,
   "metadata": {},
   "outputs": [],
   "source": [
    "rows_list = []\n",
    "for x in range(len(business_AZ)):\n",
    "    cat_list = business_AZ.iloc[x][1].split(', ')\n",
    "    for y in range(len(cat_list)):\n",
    "        dict1 = {}\n",
    "        dict1.update({'business_id':business_AZ.iloc[x][0]})\n",
    "        dict1.update({'categories':cat_list[y]})\n",
    "        dict1.update({'city':business_AZ.iloc[x][2]})\n",
    "        dict1.update({'stars':business_AZ.iloc[x][3]})\n",
    "        dict1.update({'state':business_AZ.iloc[x][4]})\n",
    "        rows_list.append(dict1)\n",
    "business_categories_AZ = pd.DataFrame(rows_list)"
   ]
  },
  {
   "cell_type": "code",
   "execution_count": 38,
   "metadata": {},
   "outputs": [],
   "source": [
    "rows_list = []\n",
    "for x in range(len(business)):\n",
    "    cat_list = business.iloc[x][1].split(', ')\n",
    "    for y in range(len(cat_list)):\n",
    "        dict1 = {}\n",
    "        dict1.update({'business_id':business.iloc[x][0]})\n",
    "        dict1.update({'categories':cat_list[y]})\n",
    "        dict1.update({'city':business.iloc[x][2]})\n",
    "        dict1.update({'stars':business.iloc[x][3]})\n",
    "        dict1.update({'state':business.iloc[x][4]})\n",
    "        rows_list.append(dict1)\n",
    "business_categories = pd.DataFrame(rows_list) "
   ]
  },
  {
   "cell_type": "code",
   "execution_count": 10,
   "metadata": {},
   "outputs": [
    {
     "name": "stdout",
     "output_type": "stream",
     "text": [
      "(201358, 5)\n"
     ]
    },
    {
     "data": {
      "text/html": [
       "<div>\n",
       "<style scoped>\n",
       "    .dataframe tbody tr th:only-of-type {\n",
       "        vertical-align: middle;\n",
       "    }\n",
       "\n",
       "    .dataframe tbody tr th {\n",
       "        vertical-align: top;\n",
       "    }\n",
       "\n",
       "    .dataframe thead th {\n",
       "        text-align: right;\n",
       "    }\n",
       "</style>\n",
       "<table border=\"1\" class=\"dataframe\">\n",
       "  <thead>\n",
       "    <tr style=\"text-align: right;\">\n",
       "      <th></th>\n",
       "      <th>business_id</th>\n",
       "      <th>categories</th>\n",
       "      <th>city</th>\n",
       "      <th>stars</th>\n",
       "      <th>state</th>\n",
       "    </tr>\n",
       "  </thead>\n",
       "  <tbody>\n",
       "    <tr>\n",
       "      <th>0</th>\n",
       "      <td>xvX2CttrVhyG2z1dFg_0xw</td>\n",
       "      <td>Insurance</td>\n",
       "      <td>Goodyear</td>\n",
       "      <td>5.0</td>\n",
       "      <td>AZ</td>\n",
       "    </tr>\n",
       "    <tr>\n",
       "      <th>1</th>\n",
       "      <td>xvX2CttrVhyG2z1dFg_0xw</td>\n",
       "      <td>Financial Services</td>\n",
       "      <td>Goodyear</td>\n",
       "      <td>5.0</td>\n",
       "      <td>AZ</td>\n",
       "    </tr>\n",
       "    <tr>\n",
       "      <th>2</th>\n",
       "      <td>1Dfx3zM-rW4n-31KeC8sJg</td>\n",
       "      <td>Restaurants</td>\n",
       "      <td>Phoenix</td>\n",
       "      <td>3.0</td>\n",
       "      <td>AZ</td>\n",
       "    </tr>\n",
       "    <tr>\n",
       "      <th>3</th>\n",
       "      <td>1Dfx3zM-rW4n-31KeC8sJg</td>\n",
       "      <td>Breakfast &amp; Brunch</td>\n",
       "      <td>Phoenix</td>\n",
       "      <td>3.0</td>\n",
       "      <td>AZ</td>\n",
       "    </tr>\n",
       "    <tr>\n",
       "      <th>4</th>\n",
       "      <td>1Dfx3zM-rW4n-31KeC8sJg</td>\n",
       "      <td>Mexican</td>\n",
       "      <td>Phoenix</td>\n",
       "      <td>3.0</td>\n",
       "      <td>AZ</td>\n",
       "    </tr>\n",
       "  </tbody>\n",
       "</table>\n",
       "</div>"
      ],
      "text/plain": [
       "              business_id          categories      city  stars state\n",
       "0  xvX2CttrVhyG2z1dFg_0xw           Insurance  Goodyear    5.0    AZ\n",
       "1  xvX2CttrVhyG2z1dFg_0xw  Financial Services  Goodyear    5.0    AZ\n",
       "2  1Dfx3zM-rW4n-31KeC8sJg         Restaurants   Phoenix    3.0    AZ\n",
       "3  1Dfx3zM-rW4n-31KeC8sJg  Breakfast & Brunch   Phoenix    3.0    AZ\n",
       "4  1Dfx3zM-rW4n-31KeC8sJg             Mexican   Phoenix    3.0    AZ"
      ]
     },
     "execution_count": 10,
     "metadata": {},
     "output_type": "execute_result"
    }
   ],
   "source": [
    "print(business_categories_AZ.shape)\n",
    "business_categories_AZ.head()"
   ]
  },
  {
   "cell_type": "code",
   "execution_count": 8,
   "metadata": {},
   "outputs": [
    {
     "data": {
      "text/plain": [
       "1203"
      ]
     },
     "execution_count": 8,
     "metadata": {},
     "output_type": "execute_result"
    }
   ],
   "source": [
    "len(business_categories_AZ['categories'].value_counts())"
   ]
  },
  {
   "cell_type": "code",
   "execution_count": 13,
   "metadata": {},
   "outputs": [
    {
     "data": {
      "text/plain": [
       "Index(['Home Services', 'Shopping', 'Restaurants', 'Health & Medical',\n",
       "       'Beauty & Spas', 'Local Services', 'Food', 'Automotive', 'Doctors',\n",
       "       'Active Life', 'Professional Services', 'Event Planning & Services',\n",
       "       'Real Estate', 'Home & Garden', 'Auto Repair', 'Hair Salons',\n",
       "       'Fast Food', 'Fashion', 'Nightlife', 'Contractors'],\n",
       "      dtype='object')"
      ]
     },
     "execution_count": 13,
     "metadata": {},
     "output_type": "execute_result"
    }
   ],
   "source": [
    "yelp_AZ_20_category_list = business_categories_AZ['categories'].value_counts()[:20].index\n",
    "yelp_AZ_20_category_list"
   ]
  },
  {
   "cell_type": "code",
   "execution_count": 15,
   "metadata": {},
   "outputs": [
    {
     "data": {
      "text/plain": [
       "20"
      ]
     },
     "execution_count": 15,
     "metadata": {},
     "output_type": "execute_result"
    }
   ],
   "source": [
    "AZ_20_category_df_list = []\n",
    "for category in yelp_AZ_20_category_list:\n",
    "    AZ_category = business_categories_AZ[business_categories_AZ['categories']==category]\n",
    "    AZ_20_category_df_list.append(AZ_category)\n",
    "len(AZ_20_category_df_list)"
   ]
  },
  {
   "cell_type": "code",
   "execution_count": 16,
   "metadata": {},
   "outputs": [
    {
     "data": {
      "text/plain": [
       "Home Services    8484\n",
       "Name: categories, dtype: int64"
      ]
     },
     "execution_count": 16,
     "metadata": {},
     "output_type": "execute_result"
    }
   ],
   "source": [
    "AZ_20_category_df_list[0].categories.value_counts()"
   ]
  },
  {
   "cell_type": "code",
   "execution_count": 24,
   "metadata": {},
   "outputs": [
    {
     "name": "stdout",
     "output_type": "stream",
     "text": [
      "0 AZ - Home Services 20\n",
      "1 AZ - Home Services 20\n",
      "2 AZ - Home Services 20\n",
      "3 AZ - Home Services 20\n",
      "4 AZ - Home Services 20\n",
      "5 AZ - Home Services 20\n",
      "6 AZ - Home Services 20\n",
      "7 AZ - Home Services 20\n",
      "8 AZ - Home Services 20\n",
      "9 AZ - Home Services 20\n"
     ]
    }
   ],
   "source": [
    "for x in range(10):\n",
    "    print(str(x+1)+' AZ - Home Services', len(AZ_20_category_df_list))"
   ]
  },
  {
   "cell_type": "code",
   "execution_count": 44,
   "metadata": {},
   "outputs": [
    {
     "data": {
      "text/plain": [
       "Restaurants                        42237\n",
       "Shopping                           26734\n",
       "Food                               23208\n",
       "Home Services                      18455\n",
       "Beauty & Spas                      16545\n",
       "Health & Medical                   15875\n",
       "Local Services                     12830\n",
       "Automotive                         11955\n",
       "Nightlife                           9396\n",
       "Event Planning & Services           8960\n",
       "Active Life                         8217\n",
       "Bars                                8155\n",
       "Fast Food                           6409\n",
       "Fashion                             6293\n",
       "Hair Salons                         5919\n",
       "Professional Services               5844\n",
       "Sandwiches                          5753\n",
       "Coffee & Tea                        5731\n",
       "Home & Garden                       5667\n",
       "Auto Repair                         5562\n",
       "Doctors                             5521\n",
       "Hotels & Travel                     5404\n",
       "American (Traditional)              5264\n",
       "Pizza                               5254\n",
       "Real Estate                         5249\n",
       "Arts & Entertainment                5083\n",
       "Nail Salons                         4389\n",
       "Burgers                             4337\n",
       "Breakfast & Brunch                  4226\n",
       "Fitness & Instruction               3824\n",
       "Specialty Food                      3807\n",
       "Pets                                3659\n",
       "Hair Removal                        3518\n",
       "Dentists                            3341\n",
       "Mexican                             3313\n",
       "Italian                             3249\n",
       "American (New)                      3191\n",
       "Chinese                             3134\n",
       "Grocery                             3071\n",
       "Education                           2994\n",
       "Contractors                         2973\n",
       "Financial Services                  2921\n",
       "Skin Care                           2914\n",
       "Bakeries                            2752\n",
       "General Dentistry                   2635\n",
       "Pet Services                        2557\n",
       "Desserts                            2435\n",
       "Women's Clothing                    2355\n",
       "Cafes                               2316\n",
       "Massage                             2303\n",
       "Apartments                          2283\n",
       "Chicken Wings                       2282\n",
       "Hotels                              2261\n",
       "Day Spas                            2232\n",
       "Waxing                              2210\n",
       "Tires                               2132\n",
       "Salad                               2111\n",
       "Caterers                            2082\n",
       "Oil Change Stations                 1986\n",
       "Venues & Event Spaces               1960\n",
       "Ice Cream & Frozen Yogurt           1957\n",
       "Cosmetic Dentists                   1956\n",
       "Auto Parts & Supplies               1906\n",
       "Cosmetics & Beauty Supply           1902\n",
       "Gyms                                1885\n",
       "Car Dealers                         1863\n",
       "Seafood                             1859\n",
       "Home Decor                          1858\n",
       "Flowers & Gifts                     1839\n",
       "Japanese                            1817\n",
       "Sporting Goods                      1791\n",
       "Accessories                         1788\n",
       "Barbers                             1771\n",
       "Hair Stylists                       1754\n",
       "Beer                                1727\n",
       "Wine & Spirits                      1727\n",
       "Convenience Stores                  1678\n",
       "Medical Centers                     1671\n",
       "Trainers                            1628\n",
       "Eyelash Service                     1623\n",
       "Massage Therapy                     1597\n",
       "Drugstores                          1596\n",
       "Sports Bars                         1589\n",
       "Pubs                                1583\n",
       "Furniture Stores                    1571\n",
       "Sushi Bars                          1571\n",
       "Men's Clothing                      1551\n",
       "Gas Stations                        1517\n",
       "Jewelry                             1501\n",
       "Real Estate Services                1500\n",
       "Heating & Air Conditioning/HVAC     1469\n",
       "Delis                               1454\n",
       "Arts & Crafts                       1441\n",
       "Department Stores                   1406\n",
       "Specialty Schools                   1395\n",
       "IT Services & Computer Repair       1372\n",
       "Pet Groomers                        1371\n",
       "Electronics                         1358\n",
       "Canadian (New)                      1349\n",
       "Juice Bars & Smoothies              1337\n",
       "                                   ...  \n",
       "Sports Psychologists                   4\n",
       "Public Adjusters                       4\n",
       "Taxidermy                              3\n",
       "Luggage Storage                        3\n",
       "Homeless Shelters                      3\n",
       "Neuropathologists                      3\n",
       "Aviation Services                      3\n",
       "Mosques                                3\n",
       "Carousels                              3\n",
       "Bike Repair                            3\n",
       "Auto Electric Services                 3\n",
       "Municipality                           3\n",
       "Indoor Landscaping                     3\n",
       "Natural Gas Suppliers                  3\n",
       "Patent Law                             3\n",
       "Iberian                                3\n",
       "Sicilian                               3\n",
       "Fuel Docks                             3\n",
       "Boat Parts & Supplies                  3\n",
       "Jails & Prisons                        3\n",
       "Uzbek                                  3\n",
       "Trinidadian                            3\n",
       "EV Charging Stations                   3\n",
       "Hybrid Car Repair                      3\n",
       "Animal Assisted Therapy                3\n",
       "Sledding                               3\n",
       "Snorkeling                             3\n",
       "Phlebologists                          3\n",
       "Beach Bars                             3\n",
       "Trivia Hosts                           3\n",
       "Outdoor Movies                         2\n",
       "Electricity Suppliers                  2\n",
       "Beer Garden                            2\n",
       "Kitchen Incubators                     2\n",
       "Pub Food                               2\n",
       "Reunion                                2\n",
       "Water Suppliers                        2\n",
       "Scooter Tours                          2\n",
       "Waldorf Schools                        2\n",
       "Nicaraguan                             2\n",
       "Cheese Tasting Classes                 2\n",
       "Hearing Aids                           2\n",
       "Scottish                               2\n",
       "Erotic Massage                         2\n",
       "Metro Stations                         2\n",
       "Undersea/Hyperbaric Medicine           2\n",
       "Props                                  2\n",
       "Bike Parking                           2\n",
       "Town Hall                              2\n",
       "Nudist                                 2\n",
       "Swiss Food                             2\n",
       "Guamanian                              2\n",
       "Habilitative Services                  2\n",
       "Hotel bar                              2\n",
       "Registry Office                        2\n",
       "Kiosk                                  1\n",
       "Mauritius                              1\n",
       "Street Art                             1\n",
       "Udon                                   1\n",
       "Japanese Sweets                        1\n",
       "Tempura                                1\n",
       "Game Meat                              1\n",
       "Makerspaces                            1\n",
       "Otologists                             1\n",
       "Soba                                   1\n",
       "Entertainment Law                      1\n",
       "Rotisserie Chicken                     1\n",
       "Oaxacan                                1\n",
       "Churros                                1\n",
       "DUI Schools                            1\n",
       "Homeopathic                            1\n",
       "Bocce Ball                             1\n",
       "Sport Equipment Hire                   1\n",
       "Fencing Clubs                          1\n",
       "Experiences                            1\n",
       "Ceremonial Clothing                    1\n",
       "Toxicologists                          1\n",
       "Senegalese                             1\n",
       "Beach Volleyball                       1\n",
       "Tonkatsu                               1\n",
       "Minho                                  1\n",
       "Market Stalls                          1\n",
       "Geneticists                            1\n",
       "Osteopaths                             1\n",
       "Halfway Houses                         1\n",
       "Backshop                               1\n",
       "Linens                                 1\n",
       "Rodeo                                  1\n",
       "Customs Brokers                        1\n",
       "Calabrian                              1\n",
       "Dialysis Clinics                       1\n",
       "Court Reporters                        1\n",
       "Flyboarding                            1\n",
       "Christmas Markets                      1\n",
       "Studio Taping                          1\n",
       "Medical Foot Care                      1\n",
       "Sauna Installation & Repair            1\n",
       "General Festivals                      1\n",
       "Playsets                               1\n",
       "Pita                                   1\n",
       "Name: categories, Length: 1290, dtype: int64"
      ]
     },
     "execution_count": 44,
     "metadata": {},
     "output_type": "execute_result"
    }
   ],
   "source": [
    "business_categories['categories'].value_counts()"
   ]
  },
  {
   "cell_type": "code",
   "execution_count": 40,
   "metadata": {},
   "outputs": [
    {
     "name": "stdout",
     "output_type": "stream",
     "text": [
      "(658930, 5)\n"
     ]
    },
    {
     "data": {
      "text/html": [
       "<div>\n",
       "<style scoped>\n",
       "    .dataframe tbody tr th:only-of-type {\n",
       "        vertical-align: middle;\n",
       "    }\n",
       "\n",
       "    .dataframe tbody tr th {\n",
       "        vertical-align: top;\n",
       "    }\n",
       "\n",
       "    .dataframe thead th {\n",
       "        text-align: right;\n",
       "    }\n",
       "</style>\n",
       "<table border=\"1\" class=\"dataframe\">\n",
       "  <thead>\n",
       "    <tr style=\"text-align: right;\">\n",
       "      <th></th>\n",
       "      <th>business_id</th>\n",
       "      <th>categories</th>\n",
       "      <th>city</th>\n",
       "      <th>stars</th>\n",
       "      <th>state</th>\n",
       "    </tr>\n",
       "  </thead>\n",
       "  <tbody>\n",
       "    <tr>\n",
       "      <th>0</th>\n",
       "      <td>QXAEGFB4oINsVuTFxEYKFQ</td>\n",
       "      <td>Specialty Food</td>\n",
       "      <td>Mississauga</td>\n",
       "      <td>2.5</td>\n",
       "      <td>ON</td>\n",
       "    </tr>\n",
       "    <tr>\n",
       "      <th>1</th>\n",
       "      <td>QXAEGFB4oINsVuTFxEYKFQ</td>\n",
       "      <td>Restaurants</td>\n",
       "      <td>Mississauga</td>\n",
       "      <td>2.5</td>\n",
       "      <td>ON</td>\n",
       "    </tr>\n",
       "    <tr>\n",
       "      <th>2</th>\n",
       "      <td>QXAEGFB4oINsVuTFxEYKFQ</td>\n",
       "      <td>Dim Sum</td>\n",
       "      <td>Mississauga</td>\n",
       "      <td>2.5</td>\n",
       "      <td>ON</td>\n",
       "    </tr>\n",
       "    <tr>\n",
       "      <th>3</th>\n",
       "      <td>QXAEGFB4oINsVuTFxEYKFQ</td>\n",
       "      <td>Imported Food</td>\n",
       "      <td>Mississauga</td>\n",
       "      <td>2.5</td>\n",
       "      <td>ON</td>\n",
       "    </tr>\n",
       "    <tr>\n",
       "      <th>4</th>\n",
       "      <td>QXAEGFB4oINsVuTFxEYKFQ</td>\n",
       "      <td>Food</td>\n",
       "      <td>Mississauga</td>\n",
       "      <td>2.5</td>\n",
       "      <td>ON</td>\n",
       "    </tr>\n",
       "  </tbody>\n",
       "</table>\n",
       "</div>"
      ],
      "text/plain": [
       "              business_id      categories         city  stars state\n",
       "0  QXAEGFB4oINsVuTFxEYKFQ  Specialty Food  Mississauga    2.5    ON\n",
       "1  QXAEGFB4oINsVuTFxEYKFQ     Restaurants  Mississauga    2.5    ON\n",
       "2  QXAEGFB4oINsVuTFxEYKFQ         Dim Sum  Mississauga    2.5    ON\n",
       "3  QXAEGFB4oINsVuTFxEYKFQ   Imported Food  Mississauga    2.5    ON\n",
       "4  QXAEGFB4oINsVuTFxEYKFQ            Food  Mississauga    2.5    ON"
      ]
     },
     "execution_count": 40,
     "metadata": {},
     "output_type": "execute_result"
    }
   ],
   "source": [
    "print(business_categories.shape)\n",
    "business_categories.head()"
   ]
  },
  {
   "cell_type": "code",
   "execution_count": 17,
   "metadata": {},
   "outputs": [
    {
     "data": {
      "text/plain": [
       "Index(['Home Services', 'Shopping', 'Restaurants', 'Health & Medical',\n",
       "       'Beauty & Spas', 'Local Services', 'Food', 'Automotive', 'Doctors',\n",
       "       'Active Life', 'Professional Services', 'Event Planning & Services',\n",
       "       'Real Estate', 'Home & Garden', 'Auto Repair', 'Hair Salons',\n",
       "       'Fast Food', 'Fashion', 'Nightlife', 'Contractors'],\n",
       "      dtype='object')"
      ]
     },
     "execution_count": 17,
     "metadata": {},
     "output_type": "execute_result"
    }
   ],
   "source": [
    "yelp_AZ_20_category_list"
   ]
  },
  {
   "cell_type": "markdown",
   "metadata": {},
   "source": [
    "## Create CSV after merging Review and Business JSON"
   ]
  },
  {
   "cell_type": "code",
   "execution_count": null,
   "metadata": {},
   "outputs": [],
   "source": [
    "import pandas as pd\n",
    "\n",
    "# set chuncksize\n",
    "size = 1000000\n",
    "# Iterate over the list of categories(20)\n",
    "for x in range(20):\n",
    "    review = pd.read_json('review.json', lines=True,\n",
    "                          dtype={'review_id':str,'user_id':str,'business_id':str,'stars':int,\n",
    "                                 'date':str,'text':str,'useful':int,'funny':int,'cool':int},\n",
    "                          chunksize=size)\n",
    "\n",
    "    chunk_list = []\n",
    "    for chunk_review in review:\n",
    "        chunk_review = chunk_review.drop(['review_id','user_id'], axis=1)\n",
    "        chunk_review = chunk_review.rename(columns={'stars': 'review_stars'})\n",
    "        chunk_category = pd.merge(AZ_20_category_df_list[x], chunk_review, on='business_id', how='inner')\n",
    "        chunk_list.append(chunk_category)\n",
    "        print(x+1, yelp_AZ_20_category_list[x], chunk_category.shape)\n",
    "    df = pd.concat(chunk_list, ignore_index=True, join='outer', axis=0)\n",
    "    df.to_csv(yelp_AZ_20_category_list[x]+\".csv\", index=False)\n",
    "    print(df.shape)\n",
    "    df.head()"
   ]
  }
 ],
 "metadata": {
  "kernelspec": {
   "display_name": "Python 3",
   "language": "python",
   "name": "python3"
  },
  "language_info": {
   "codemirror_mode": {
    "name": "ipython",
    "version": 3
   },
   "file_extension": ".py",
   "mimetype": "text/x-python",
   "name": "python",
   "nbconvert_exporter": "python",
   "pygments_lexer": "ipython3",
   "version": "3.7.3"
  }
 },
 "nbformat": 4,
 "nbformat_minor": 4
}
