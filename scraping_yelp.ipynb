{
 "cells": [
  {
   "cell_type": "markdown",
   "metadata": {},
   "source": [
    "# Business Recommendation By Review\n",
    "- Scrape and analyze review data from NYC\n",
    "- Using NLP techniques, identify common features of highly-reviewed establishments to generate recommendations by training a model"
   ]
  },
  {
   "cell_type": "markdown",
   "metadata": {},
   "source": [
    "https://www.yelp.com/biz/coffee-project-ny-new-york?osq=coffee%20shop&start=20&sort_by=rating_desc"
   ]
  },
  {
   "cell_type": "code",
   "execution_count": 11,
   "metadata": {},
   "outputs": [],
   "source": [
    "import asyncio\n",
    "import requests\n",
    "import nest_asyncio\n",
    "from bs4 import BeautifulSoup\n",
    "from concurrent.futures import ThreadPoolExecutor"
   ]
  },
  {
   "cell_type": "code",
   "execution_count": 12,
   "metadata": {},
   "outputs": [],
   "source": [
    "def async_web_scrape(iterable, individual_scrape_function, *args):\n",
    "    \"\"\"\n",
    "    This function does something analogous to compiling the get_data_asynchronously function,\n",
    "    Then it executes loop.\n",
    "    1. Call the get_data_function\n",
    "    2. Get the event_loop\n",
    "    3. Run the tasks (Much easier to understand in python 3.7, \"ensure_future\" was changed to \"create_task\")\n",
    "    4. Edge_list and top_interactions will be passed to the next functions\n",
    "    \"\"\"\n",
    "    nest_asyncio.apply()\n",
    "    async def create_scrape_loop(iterable, individual_scrape_function, *args):\n",
    "        \"\"\"\n",
    "        1. Establish an executor and number of workers\n",
    "        2. Establish the session\n",
    "        3. Establish the event loop\n",
    "        4. Create the task by list comprenhensions\n",
    "        5. Gather tasks.\n",
    "        \"\"\"\n",
    "        with ThreadPoolExecutor(max_workers=40) as executor:\n",
    "            with requests.Session() as session:\n",
    "                loop = asyncio.get_event_loop()\n",
    "                tasks = [\n",
    "                    loop.run_in_executor(\n",
    "                        executor, individual_scrape_function, *(i, *args)\n",
    "                    )\n",
    "                    for i in iterable\n",
    "                ]\n",
    "                for response in await asyncio.gather(*tasks):\n",
    "                    pass\n",
    "    \n",
    "    future = asyncio.ensure_future(\n",
    "        create_scrape_loop(iterable, individual_scrape_function,*args)\n",
    "    )\n",
    "    loop = asyncio.get_event_loop()\n",
    "    loop.run_until_complete(future)"
   ]
  },
  {
   "cell_type": "code",
   "execution_count": 38,
   "metadata": {},
   "outputs": [],
   "source": [
    "def filter_biz_url(url):\n",
    "    if (\"?hrid\" in url)|(\"/adredir?ad_business_id\" in url)|( \"/search?cflt\" in url)|(\"yelp.com/city/nyc\" in url)|(\"databyacxiom\" in url):\n",
    "        pass\n",
    "    else:\n",
    "        return url"
   ]
  },
  {
   "cell_type": "code",
   "execution_count": 31,
   "metadata": {},
   "outputs": [],
   "source": [
    "def scrape_yelp_search(start_number, all_links):\n",
    "#     url = 'https://www.yelp.com/search?cflt='+business_type+'&find_loc='+location+'&start='\n",
    "    url = \"https://www.yelp.com/search?cflt=coffee&find_loc=New%20York%2C%20NY&start=\"\n",
    "    r = requests.get(url+str(start_number)).text\n",
    "    soup = BeautifulSoup(r, \"html.parser\")\n",
    "    a = soup.find_all(\"a\",{\"class\":\"lemon--a__373c0__IEZFH link__373c0__29943 link-color--blue-dark__373c0__1mhJo link-size--inherit__373c0__2JXk5\"})\n",
    "    links = [filter_biz_url(i[\"href\"]) for i in a if filter_biz_url(i[\"href\"]) is not None]\n",
    "    all_links.extend(links)"
   ]
  },
  {
   "cell_type": "code",
   "execution_count": 22,
   "metadata": {},
   "outputs": [
    {
     "data": {
      "text/plain": [
       "'https://www.yelp.com/search?cflt=italian&find_loc=New%20York%2C%20NY&start=0'"
      ]
     },
     "execution_count": 22,
     "metadata": {},
     "output_type": "execute_result"
    }
   ],
   "source": [
    "business_type = 'italian' # business type: painter, autorepair, burger\n",
    "location = \"New York, NY\" # city, state\n",
    "location = location.replace(\" \", \"%20\").replace(\",\", \"%2C\")\n",
    "start_num = 0 # yelp shows 30 per page, so increments of 30\n",
    "url = 'https://www.yelp.com/search?cflt='+business_type+'&find_loc='+location+'&start='+str(start_num)\n",
    "url"
   ]
  },
  {
   "cell_type": "code",
   "execution_count": 40,
   "metadata": {},
   "outputs": [],
   "source": [
    "business_type = 'italian' # business type: painter, autorepair, burger\n",
    "location = \"New York, NY\" # city, state\n",
    "location = location.replace(\" \", \"%20\").replace(\",\", \"%2C\")\n",
    "all_links = []\n",
    "async_web_scrape(list(range(0,1200,30)), scrape_yelp_search, all_links)"
   ]
  },
  {
   "cell_type": "code",
   "execution_count": 42,
   "metadata": {},
   "outputs": [
    {
     "data": {
      "text/plain": [
       "990"
      ]
     },
     "execution_count": 42,
     "metadata": {},
     "output_type": "execute_result"
    }
   ],
   "source": [
    "len(all_links)"
   ]
  },
  {
   "cell_type": "code",
   "execution_count": null,
   "metadata": {},
   "outputs": [],
   "source": []
  }
 ],
 "metadata": {
  "kernelspec": {
   "display_name": "Python 3",
   "language": "python",
   "name": "python3"
  },
  "language_info": {
   "codemirror_mode": {
    "name": "ipython",
    "version": 3
   },
   "file_extension": ".py",
   "mimetype": "text/x-python",
   "name": "python",
   "nbconvert_exporter": "python",
   "pygments_lexer": "ipython3",
   "version": "3.7.3"
  }
 },
 "nbformat": 4,
 "nbformat_minor": 4
}
