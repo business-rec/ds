{
  "nbformat": 4,
  "nbformat_minor": 0,
  "metadata": {
    "colab": {
      "name": "RandForst.ipynb",
      "provenance": [],
      "collapsed_sections": [],
      "machine_shape": "hm"
    },
    "kernelspec": {
      "name": "python3",
      "display_name": "Python 3"
    }
  },
  "cells": [
    {
      "cell_type": "code",
      "metadata": {
        "id": "btdoRAy7FLJm",
        "colab_type": "code",
        "colab": {}
      },
      "source": [
        "from sklearn.feature_extraction.text import TfidfVectorizer\n",
        "import pandas as pd\n",
        "from sklearn.ensemble import RandomForestClassifier"
      ],
      "execution_count": 0,
      "outputs": []
    },
    {
      "cell_type": "code",
      "metadata": {
        "id": "o2TzRkrKGxb_",
        "colab_type": "code",
        "colab": {
          "base_uri": "https://localhost:8080/",
          "height": 206
        },
        "outputId": "bad1ee08-5329-41ea-d140-9d63dc42eb70"
      },
      "source": [
        "df = pd.read_csv('Shopping_AZ.csv') \n",
        "df['positive'] = df['stars_y'] >=3\n",
        "df = df \n",
        "df.head()"
      ],
      "execution_count": 14,
      "outputs": [
        {
          "output_type": "execute_result",
          "data": {
            "text/html": [
              "<div>\n",
              "<style scoped>\n",
              "    .dataframe tbody tr th:only-of-type {\n",
              "        vertical-align: middle;\n",
              "    }\n",
              "\n",
              "    .dataframe tbody tr th {\n",
              "        vertical-align: top;\n",
              "    }\n",
              "\n",
              "    .dataframe thead th {\n",
              "        text-align: right;\n",
              "    }\n",
              "</style>\n",
              "<table border=\"1\" class=\"dataframe\">\n",
              "  <thead>\n",
              "    <tr style=\"text-align: right;\">\n",
              "      <th></th>\n",
              "      <th>business_id</th>\n",
              "      <th>categories</th>\n",
              "      <th>city</th>\n",
              "      <th>stars_x</th>\n",
              "      <th>state</th>\n",
              "      <th>cool</th>\n",
              "      <th>date</th>\n",
              "      <th>funny</th>\n",
              "      <th>stars_y</th>\n",
              "      <th>text</th>\n",
              "      <th>useful</th>\n",
              "      <th>positive</th>\n",
              "    </tr>\n",
              "  </thead>\n",
              "  <tbody>\n",
              "    <tr>\n",
              "      <th>0</th>\n",
              "      <td>HYunM2pknhIh8lbiMa7THw</td>\n",
              "      <td>Shopping</td>\n",
              "      <td>Phoenix</td>\n",
              "      <td>3.0</td>\n",
              "      <td>AZ</td>\n",
              "      <td>0</td>\n",
              "      <td>2015-03-18 18:19:24</td>\n",
              "      <td>0</td>\n",
              "      <td>1</td>\n",
              "      <td>Went out of my way to get paint at this store ...</td>\n",
              "      <td>1</td>\n",
              "      <td>False</td>\n",
              "    </tr>\n",
              "    <tr>\n",
              "      <th>1</th>\n",
              "      <td>KjicU7uxRt2KDEnO5cgxDQ</td>\n",
              "      <td>Shopping</td>\n",
              "      <td>Phoenix</td>\n",
              "      <td>3.0</td>\n",
              "      <td>AZ</td>\n",
              "      <td>0</td>\n",
              "      <td>2017-06-27 23:17:40</td>\n",
              "      <td>0</td>\n",
              "      <td>1</td>\n",
              "      <td>This company tried deliver flowers to our home...</td>\n",
              "      <td>0</td>\n",
              "      <td>False</td>\n",
              "    </tr>\n",
              "    <tr>\n",
              "      <th>2</th>\n",
              "      <td>KjicU7uxRt2KDEnO5cgxDQ</td>\n",
              "      <td>Shopping</td>\n",
              "      <td>Phoenix</td>\n",
              "      <td>3.0</td>\n",
              "      <td>AZ</td>\n",
              "      <td>0</td>\n",
              "      <td>2017-01-27 21:27:21</td>\n",
              "      <td>0</td>\n",
              "      <td>1</td>\n",
              "      <td>This the worst flower place that I've ever enc...</td>\n",
              "      <td>1</td>\n",
              "      <td>False</td>\n",
              "    </tr>\n",
              "    <tr>\n",
              "      <th>3</th>\n",
              "      <td>7CVoVNkEAremQ7JTjx_02A</td>\n",
              "      <td>Shopping</td>\n",
              "      <td>Phoenix</td>\n",
              "      <td>3.5</td>\n",
              "      <td>AZ</td>\n",
              "      <td>0</td>\n",
              "      <td>2017-12-02 18:58:16</td>\n",
              "      <td>0</td>\n",
              "      <td>5</td>\n",
              "      <td>A great spot to grab a shake right at 51 Freew...</td>\n",
              "      <td>0</td>\n",
              "      <td>True</td>\n",
              "    </tr>\n",
              "    <tr>\n",
              "      <th>4</th>\n",
              "      <td>HxUD_4GpOInD-mXIppZiZA</td>\n",
              "      <td>Shopping</td>\n",
              "      <td>Tempe</td>\n",
              "      <td>5.0</td>\n",
              "      <td>AZ</td>\n",
              "      <td>0</td>\n",
              "      <td>2017-07-28 18:01:29</td>\n",
              "      <td>0</td>\n",
              "      <td>5</td>\n",
              "      <td>We were just in Arizona visiting family and st...</td>\n",
              "      <td>0</td>\n",
              "      <td>True</td>\n",
              "    </tr>\n",
              "  </tbody>\n",
              "</table>\n",
              "</div>"
            ],
            "text/plain": [
              "              business_id categories  ... useful  positive\n",
              "0  HYunM2pknhIh8lbiMa7THw   Shopping  ...      1     False\n",
              "1  KjicU7uxRt2KDEnO5cgxDQ   Shopping  ...      0     False\n",
              "2  KjicU7uxRt2KDEnO5cgxDQ   Shopping  ...      1     False\n",
              "3  7CVoVNkEAremQ7JTjx_02A   Shopping  ...      0      True\n",
              "4  HxUD_4GpOInD-mXIppZiZA   Shopping  ...      0      True\n",
              "\n",
              "[5 rows x 12 columns]"
            ]
          },
          "metadata": {
            "tags": []
          },
          "execution_count": 14
        }
      ]
    },
    {
      "cell_type": "code",
      "metadata": {
        "id": "QN-Ksh2qIn21",
        "colab_type": "code",
        "colab": {}
      },
      "source": [
        "## Convert to vectorizer.\n",
        "vectorizer = TfidfVectorizer(\n",
        "    min_df = 0.05,\n",
        "    max_df = 0.95,\n",
        "    analyzer = 'word',\n",
        "    lowercase = False,\n",
        ")\n",
        "features = vectorizer.fit_transform(\n",
        "    df['text']\n",
        ")\n",
        "features_nd = features.toarray() # for easy usage"
      ],
      "execution_count": 0,
      "outputs": []
    },
    {
      "cell_type": "code",
      "metadata": {
        "id": "jiidolSIKf6R",
        "colab_type": "code",
        "colab": {}
      },
      "source": [
        "## Target.\n",
        "data_labels = df['positive']"
      ],
      "execution_count": 0,
      "outputs": []
    },
    {
      "cell_type": "code",
      "metadata": {
        "id": "E_6iJPegI4Su",
        "colab_type": "code",
        "colab": {}
      },
      "source": [
        "## Divide train and test.\n",
        "from sklearn.model_selection import train_test_split\n",
        "\n",
        "X_train, X_test, y_train, y_test  = train_test_split(\n",
        "        features_nd, \n",
        "        data_labels,\n",
        "        train_size=0.80, \n",
        "        random_state=1234)"
      ],
      "execution_count": 0,
      "outputs": []
    },
    {
      "cell_type": "code",
      "metadata": {
        "id": "WSkK5GFPKcUe",
        "colab_type": "code",
        "colab": {
          "base_uri": "https://localhost:8080/",
          "height": 139
        },
        "outputId": "a0fb4a9c-dc22-4c7d-a043-ffa3020b70ae"
      },
      "source": [
        "clf = RandomForestClassifier(n_estimators=100, max_depth=25,\n",
        "                             random_state=42)\n",
        "clf.fit(X_train, y_train)"
      ],
      "execution_count": 30,
      "outputs": [
        {
          "output_type": "execute_result",
          "data": {
            "text/plain": [
              "RandomForestClassifier(bootstrap=True, class_weight=None, criterion='gini',\n",
              "                       max_depth=25, max_features='auto', max_leaf_nodes=None,\n",
              "                       min_impurity_decrease=0.0, min_impurity_split=None,\n",
              "                       min_samples_leaf=1, min_samples_split=2,\n",
              "                       min_weight_fraction_leaf=0.0, n_estimators=100,\n",
              "                       n_jobs=None, oob_score=False, random_state=42, verbose=0,\n",
              "                       warm_start=False)"
            ]
          },
          "metadata": {
            "tags": []
          },
          "execution_count": 30
        }
      ]
    },
    {
      "cell_type": "code",
      "metadata": {
        "id": "WAH0BE7RK2PE",
        "colab_type": "code",
        "colab": {
          "base_uri": "https://localhost:8080/",
          "height": 34
        },
        "outputId": "82a78443-c27d-4a2a-937f-ff699594a25e"
      },
      "source": [
        "from sklearn.metrics import accuracy_score\n",
        "y_pred = clf.predict(X_test)\n",
        "print(accuracy_score(y_test, y_pred))"
      ],
      "execution_count": 31,
      "outputs": [
        {
          "output_type": "stream",
          "text": [
            "0.8559515238780897\n"
          ],
          "name": "stdout"
        }
      ]
    },
    {
      "cell_type": "code",
      "metadata": {
        "id": "79JTD1cIM7zJ",
        "colab_type": "code",
        "colab": {}
      },
      "source": [
        "pd.to_pickle(clf, 'random_forest_model.pkl')\n",
        "pd.to_pickle(vectorizer, 'vectorizer.pkl')"
      ],
      "execution_count": 0,
      "outputs": []
    }
  ]
}